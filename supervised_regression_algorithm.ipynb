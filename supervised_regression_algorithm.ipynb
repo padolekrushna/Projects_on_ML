{
  "nbformat": 4,
  "nbformat_minor": 0,
  "metadata": {
    "colab": {
      "provenance": [],
      "authorship_tag": "ABX9TyO/pBMbgFZQ9+dYPPboBzhh",
      "include_colab_link": true
    },
    "kernelspec": {
      "name": "python3",
      "display_name": "Python 3"
    },
    "language_info": {
      "name": "python"
    }
  },
  "cells": [
    {
      "cell_type": "markdown",
      "metadata": {
        "id": "view-in-github",
        "colab_type": "text"
      },
      "source": [
        "<a href=\"https://colab.research.google.com/github/padolekrushna/Projects_on_ML/blob/main/supervised_regression_algorithm.ipynb\" target=\"_parent\"><img src=\"https://colab.research.google.com/assets/colab-badge.svg\" alt=\"Open In Colab\"/></a>"
      ]
    },
    {
      "cell_type": "code",
      "execution_count": 1,
      "metadata": {
        "colab": {
          "base_uri": "https://localhost:8080/"
        },
        "id": "ZPI_XzpZ7xPt",
        "outputId": "373097e1-3219-4fff-f3e5-2f187cbc9110"
      },
      "outputs": [
        {
          "output_type": "stream",
          "name": "stderr",
          "text": [
            "/usr/local/lib/python3.10/dist-packages/sklearn/neural_network/_multilayer_perceptron.py:690: ConvergenceWarning: Stochastic Optimizer: Maximum iterations (1000) reached and the optimization hasn't converged yet.\n",
            "  warnings.warn(\n"
          ]
        },
        {
          "output_type": "stream",
          "name": "stdout",
          "text": [
            "                                MSE        R2\n",
            "Linear Regression          3.671013  0.896480\n",
            "Ridge Regression           3.668512  0.896551\n",
            "Neural Network Regression  4.129553  0.883550\n",
            "Lasso Regression           3.663493  0.896693\n",
            "Decision Tree Regression   5.196749  0.853456\n",
            "Random Forest Regression   4.640712  0.869136\n",
            "KNN Regression             5.401438  0.847684\n",
            "SVM Regression             3.754908  0.894115\n",
            "Gaussian Regression        5.648871  0.840707\n",
            "Polynomial Regression      3.646464  0.897173\n"
          ]
        }
      ],
      "source": [
        "import numpy as np\n",
        "import pandas as pd\n",
        "from sklearn.model_selection import train_test_split\n",
        "from sklearn.preprocessing import PolynomialFeatures\n",
        "from sklearn.linear_model import LinearRegression, Ridge, Lasso\n",
        "from sklearn.neighbors import KNeighborsRegressor\n",
        "from sklearn.svm import SVR\n",
        "from sklearn.tree import DecisionTreeRegressor\n",
        "from sklearn.ensemble import RandomForestRegressor\n",
        "from sklearn.gaussian_process import GaussianProcessRegressor\n",
        "from sklearn.neural_network import MLPRegressor\n",
        "from sklearn.metrics import mean_squared_error, r2_score\n",
        "\n",
        "# Create a demo dataset (random regression dataset)\n",
        "np.random.seed(0)\n",
        "X = np.random.rand(100, 1) * 10  # Features\n",
        "y = 2.5 * X.squeeze() + np.random.randn(100) * 2  # Target with noise\n",
        "\n",
        "# Split dataset into training and test sets\n",
        "X_train, X_test, y_train, y_test = train_test_split(X, y, test_size=0.2, random_state=42)\n",
        "\n",
        "# Initialize results dictionary\n",
        "results = {}\n",
        "\n",
        "# Define function to fit, predict and evaluate models\n",
        "def evaluate_model(model, X_train, X_test, y_train, y_test, model_name):\n",
        "    model.fit(X_train, y_train)\n",
        "    y_pred = model.predict(X_test)\n",
        "    mse = mean_squared_error(y_test, y_pred)\n",
        "    r2 = r2_score(y_test, y_pred)\n",
        "    results[model_name] = {\"MSE\": mse, \"R2\": r2}\n",
        "\n",
        "# Apply all regression algorithms\n",
        "\n",
        "# 1. Linear Regression\n",
        "linear_model = LinearRegression()\n",
        "evaluate_model(linear_model, X_train, X_test, y_train, y_test, \"Linear Regression\")\n",
        "\n",
        "# 2. Ridge Regression\n",
        "ridge_model = Ridge(alpha=1.0)\n",
        "evaluate_model(ridge_model, X_train, X_test, y_train, y_test, \"Ridge Regression\")\n",
        "\n",
        "# 3. Neural Network Regression\n",
        "nn_model = MLPRegressor(hidden_layer_sizes=(10,), max_iter=1000, random_state=42)\n",
        "evaluate_model(nn_model, X_train, X_test, y_train, y_test, \"Neural Network Regression\")\n",
        "\n",
        "# 4. Lasso Regression\n",
        "lasso_model = Lasso(alpha=0.1)\n",
        "evaluate_model(lasso_model, X_train, X_test, y_train, y_test, \"Lasso Regression\")\n",
        "\n",
        "# 5. Decision Tree Regression\n",
        "tree_model = DecisionTreeRegressor(random_state=42)\n",
        "evaluate_model(tree_model, X_train, X_test, y_train, y_test, \"Decision Tree Regression\")\n",
        "\n",
        "# 6. Random Forest Regression\n",
        "forest_model = RandomForestRegressor(n_estimators=100, random_state=42)\n",
        "evaluate_model(forest_model, X_train, X_test, y_train, y_test, \"Random Forest Regression\")\n",
        "\n",
        "# 7. KNN Model\n",
        "knn_model = KNeighborsRegressor(n_neighbors=5)\n",
        "evaluate_model(knn_model, X_train, X_test, y_train, y_test, \"KNN Regression\")\n",
        "\n",
        "# 8. Support Vector Machines (SVM)\n",
        "svm_model = SVR(kernel='linear')\n",
        "evaluate_model(svm_model, X_train, X_test, y_train, y_test, \"SVM Regression\")\n",
        "\n",
        "# 9. Gaussian Regression\n",
        "gaussian_model = GaussianProcessRegressor()\n",
        "evaluate_model(gaussian_model, X_train, X_test, y_train, y_test, \"Gaussian Regression\")\n",
        "\n",
        "# 10. Polynomial Regression\n",
        "poly = PolynomialFeatures(degree=2)\n",
        "X_train_poly = poly.fit_transform(X_train)\n",
        "X_test_poly = poly.transform(X_test)\n",
        "poly_model = LinearRegression()\n",
        "evaluate_model(poly_model, X_train_poly, X_test_poly, y_train, y_test, \"Polynomial Regression\")\n",
        "\n",
        "# Display results\n",
        "results_df = pd.DataFrame(results).T\n",
        "print(results_df)\n"
      ]
    },
    {
      "cell_type": "code",
      "source": [],
      "metadata": {
        "id": "sYX620YJ8JAM"
      },
      "execution_count": null,
      "outputs": []
    }
  ]
}